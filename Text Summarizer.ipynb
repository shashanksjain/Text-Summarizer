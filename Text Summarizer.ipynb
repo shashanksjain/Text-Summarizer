{
 "cells": [
  {
   "cell_type": "markdown",
   "metadata": {},
   "source": [
    "# Text Summarizer"
   ]
  },
  {
   "cell_type": "markdown",
   "metadata": {},
   "source": [
    "### Text file is inserted and the summary of the text is obtained by the model. Unsupervised learning approach is used to find the sentences similarity and rank them."
   ]
  },
  {
   "cell_type": "markdown",
   "metadata": {},
   "source": [
    "#### Steps Involved: \n",
    "Input article → split into sentences → remove stop words → build a similarity matrix → generate rank based on matrix → pick top N sentences for summary."
   ]
  },
  {
   "cell_type": "markdown",
   "metadata": {},
   "source": [
    "## 1. Import all necessary libraries"
   ]
  },
  {
   "cell_type": "code",
   "execution_count": 1,
   "metadata": {},
   "outputs": [],
   "source": [
    "#!/usr/bin/env python\n",
    "# coding: utf-8\n",
    "import nltk\n",
    "from nltk.corpus import stopwords\n",
    "from nltk.cluster.util import cosine_distance\n",
    "import numpy as np\n",
    "import networkx as nx"
   ]
  },
  {
   "cell_type": "markdown",
   "metadata": {},
   "source": [
    "## 2. Generate clean sentences"
   ]
  },
  {
   "cell_type": "code",
   "execution_count": 2,
   "metadata": {},
   "outputs": [],
   "source": [
    "def read_article(file_name):\n",
    "    file = open(file_name, \"r\")\n",
    "    filedata = file.readlines()\n",
    "    article = filedata[0].split(\". \")\n",
    "    sentences = []\n",
    "\n",
    "    for sentence in article:\n",
    "        print(sentence)\n",
    "        sentences.append(sentence.replace(\"[^a-zA-Z]\", \" \").split(\" \"))\n",
    "    sentences.pop() \n",
    "    \n",
    "    return sentences"
   ]
  },
  {
   "cell_type": "markdown",
   "metadata": {},
   "source": [
    "## 3. Similarity matrix"
   ]
  },
  {
   "cell_type": "markdown",
   "metadata": {},
   "source": [
    "Cosine similarity will be used to find similarity between sentences. Cosine similarity is a measure of similarity between two non-zero vectors of an inner product space that measures the cosine of the angle between them. Since sentences would be represented as the bunch of vectors, it can be used to find the similarity among sentences. It measures cosine of the angle between vectors, angle will be 0 if sentences are similar."
   ]
  },
  {
   "cell_type": "code",
   "execution_count": 3,
   "metadata": {},
   "outputs": [],
   "source": [
    "def sentence_similarity(sent1, sent2, stopwords=None):\n",
    "    if stopwords is None:\n",
    "        stopwords = []\n",
    " \n",
    "    sent1 = [w.lower() for w in sent1]\n",
    "    sent2 = [w.lower() for w in sent2]\n",
    " \n",
    "    all_words = list(set(sent1 + sent2))\n",
    " \n",
    "    vector1 = [0] * len(all_words)\n",
    "    vector2 = [0] * len(all_words)\n",
    " \n",
    "    # build the vector for the first sentence\n",
    "    for w in sent1:\n",
    "        if w in stopwords:\n",
    "            continue\n",
    "        vector1[all_words.index(w)] += 1\n",
    " \n",
    "    # build the vector for the second sentence\n",
    "    for w in sent2:\n",
    "        if w in stopwords:\n",
    "            continue\n",
    "        vector2[all_words.index(w)] += 1\n",
    " \n",
    "    return 1 - cosine_distance(vector1, vector2)"
   ]
  },
  {
   "cell_type": "code",
   "execution_count": 4,
   "metadata": {},
   "outputs": [],
   "source": [
    "def build_similarity_matrix(sentences, stop_words):\n",
    "    # Create an empty similarity matrix\n",
    "    similarity_matrix = np.zeros((len(sentences), len(sentences)))\n",
    " \n",
    "    for idx1 in range(len(sentences)):\n",
    "        for idx2 in range(len(sentences)):\n",
    "            if idx1 == idx2: #ignore if both are same sentences\n",
    "                continue \n",
    "            similarity_matrix[idx1][idx2] = sentence_similarity(sentences[idx1], sentences[idx2], stop_words)\n",
    "\n",
    "    return similarity_matrix"
   ]
  },
  {
   "cell_type": "markdown",
   "metadata": {},
   "source": [
    "## 4. Generate Summary Method"
   ]
  },
  {
   "cell_type": "markdown",
   "metadata": {},
   "source": [
    "Method will keep calling all other helper function to keep our summarization pipeline going."
   ]
  },
  {
   "cell_type": "code",
   "execution_count": 12,
   "metadata": {},
   "outputs": [],
   "source": [
    "def generate_summary(file_name, top_n=5):\n",
    "    nltk.download(\"stopwords\")\n",
    "    stop_words = stopwords.words('english')\n",
    "    summarize_text = []\n",
    "\n",
    "    # Step 1 - Read text anc split it\n",
    "    sentences =  read_article(file_name)\n",
    "\n",
    "    # Step 2 - Generate Similary Martix across sentences\n",
    "    sentence_similarity_martix = build_similarity_matrix(sentences, stop_words)\n",
    "\n",
    "    # Step 3 - Rank sentences in similarity martix\n",
    "    sentence_similarity_graph = nx.from_numpy_array(sentence_similarity_martix)\n",
    "    scores = nx.pagerank(sentence_similarity_graph)\n",
    "\n",
    "    # Step 4 - Sort the rank and pick top sentences\n",
    "    ranked_sentence = sorted(((scores[i],s) for i,s in enumerate(sentences)), reverse=True)    \n",
    "    print(\"\\n Indexes of top ranked_sentence order are \", ranked_sentence)    \n",
    "\n",
    "    for i in range(top_n):\n",
    "      summarize_text.append(\" \".join(ranked_sentence[i][1]))\n",
    "\n",
    "    # Step 5 - Offcourse, output the summarize text\n",
    "    print(\"\\nSummarized Text: \\n\", \". \".join(summarize_text))"
   ]
  },
  {
   "cell_type": "code",
   "execution_count": 13,
   "metadata": {},
   "outputs": [
    {
     "name": "stdout",
     "output_type": "stream",
     "text": [
      "WASHINGTON - The Trump administration has ordered the military to start withdrawing roughly 7,000 troops from Afghanistan in the coming months, two defense officials said Thursday, an abrupt shift in the 17-year-old war there and a decision that stunned Afghan officials, who said they had not been briefed on the plans.President Trump made the decision to pull the troops - about half the number the United States has in Afghanistan now - at the same time he decided to pull American forces out of Syria, one official said.The announcement came hours after Jim Mattis, the secretary of defense, said that he would resign from his position at the end of February after disagreeing with the president over his approach to policy in the Middle East.The whirlwind of troop withdrawals and the resignation of Mr\n",
      "Mattis leave a murky picture for what is next in the United Statesâ€™ longest war, and they come as Afghanistan has been troubled by spasms of violence afflicting the capital, Kabul, and other important areas\n",
      "The United States has also been conducting talks with representatives of the Taliban, in what officials have described as discussions that could lead to formal talks to end the conflict.Senior Afghan officials and Western diplomats in Kabul woke up to the shock of the news on Friday morning, and many of them braced for chaos ahead\n",
      "Several Afghan officials, often in the loop on security planning and decision-making, said they had received no indication in recent days that the Americans would pull troops out\n",
      "The fear that Mr\n",
      "Trump might take impulsive actions, however, often loomed in the background of discussions with the United States, they said.They saw the abrupt decision as a further sign that voices from the ground were lacking in the debate over the war and that with Mr\n",
      "Mattisâ€™s resignation, Afghanistan had lost one of the last influential voices in Washington who channeled the reality of the conflict into the White Houseâ€™s deliberations.The president long campaigned on bringing troops home, but in 2017, at the request of Mr\n",
      "Mattis, he begrudgingly pledged an additional 4,000 troops to the Afghan campaign to try to hasten an end to the conflict.Though Pentagon officials have said the influx of forces - coupled with a more aggressive air campaign - was helping the war effort, Afghan forces continued to take nearly unsustainable levels of casualties and lose ground to the Taliban.The renewed American effort in 2017 was the first step in ensuring Afghan forces could become more independent without a set timeline for a withdrawal\n",
      "But with plans to quickly reduce the number of American troops in the country, it is unclear if the Afghans can hold their own against an increasingly aggressive Taliban.Currently, American airstrikes are at levels not seen since the height of the war, when tens of thousands of American troops were spread throughout the country\n",
      "That air support, officials say, consists mostly of propping up Afghan troops while they try to hold territory from a resurgent Taliban.\n",
      "\n",
      " Indexes of top ranked_sentence order are  [(0.21481805670368562, ['WASHINGTON', '-', 'The', 'Trump', 'administration', 'has', 'ordered', 'the', 'military', 'to', 'start', 'withdrawing', 'roughly', '7,000', 'troops', 'from', 'Afghanistan', 'in', 'the', 'coming', 'months,', 'two', 'defense', 'officials', 'said', 'Thursday,', 'an', 'abrupt', 'shift', 'in', 'the', '17-year-old', 'war', 'there', 'and', 'a', 'decision', 'that', 'stunned', 'Afghan', 'officials,', 'who', 'said', 'they', 'had', 'not', 'been', 'briefed', 'on', 'the', 'plans.President', 'Trump', 'made', 'the', 'decision', 'to', 'pull', 'the', 'troops', '-', 'about', 'half', 'the', 'number', 'the', 'United', 'States', 'has', 'in', 'Afghanistan', 'now', '-', 'at', 'the', 'same', 'time', 'he', 'decided', 'to', 'pull', 'American', 'forces', 'out', 'of', 'Syria,', 'one', 'official', 'said.The', 'announcement', 'came', 'hours', 'after', 'Jim', 'Mattis,', 'the', 'secretary', 'of', 'defense,', 'said', 'that', 'he', 'would', 'resign', 'from', 'his', 'position', 'at', 'the', 'end', 'of', 'February', 'after', 'disagreeing', 'with', 'the', 'president', 'over', 'his', 'approach', 'to', 'policy', 'in', 'the', 'Middle', 'East.The', 'whirlwind', 'of', 'troop', 'withdrawals', 'and', 'the', 'resignation', 'of', 'Mr']), (0.1423545391059273, ['Mattis,', 'he', 'begrudgingly', 'pledged', 'an', 'additional', '4,000', 'troops', 'to', 'the', 'Afghan', 'campaign', 'to', 'try', 'to', 'hasten', 'an', 'end', 'to', 'the', 'conflict.Though', 'Pentagon', 'officials', 'have', 'said', 'the', 'influx', 'of', 'forces', '-', 'coupled', 'with', 'a', 'more', 'aggressive', 'air', 'campaign', '-', 'was', 'helping', 'the', 'war', 'effort,', 'Afghan', 'forces', 'continued', 'to', 'take', 'nearly', 'unsustainable', 'levels', 'of', 'casualties', 'and', 'lose', 'ground', 'to', 'the', 'Taliban.The', 'renewed', 'American', 'effort', 'in', '2017', 'was', 'the', 'first', 'step', 'in', 'ensuring', 'Afghan', 'forces', 'could', 'become', 'more', 'independent', 'without', 'a', 'set', 'timeline', 'for', 'a', 'withdrawal']), (0.12147806249060757, ['Trump', 'might', 'take', 'impulsive', 'actions,', 'however,', 'often', 'loomed', 'in', 'the', 'background', 'of', 'discussions', 'with', 'the', 'United', 'States,', 'they', 'said.They', 'saw', 'the', 'abrupt', 'decision', 'as', 'a', 'further', 'sign', 'that', 'voices', 'from', 'the', 'ground', 'were', 'lacking', 'in', 'the', 'debate', 'over', 'the', 'war', 'and', 'that', 'with', 'Mr']), (0.11153559318610855, ['Several', 'Afghan', 'officials,', 'often', 'in', 'the', 'loop', 'on', 'security', 'planning', 'and', 'decision-making,', 'said', 'they', 'had', 'received', 'no', 'indication', 'in', 'recent', 'days', 'that', 'the', 'Americans', 'would', 'pull', 'troops', 'out']), (0.1114014349061657, ['Mattisâ€™s', 'resignation,', 'Afghanistan', 'had', 'lost', 'one', 'of', 'the', 'last', 'influential', 'voices', 'in', 'Washington', 'who', 'channeled', 'the', 'reality', 'of', 'the', 'conflict', 'into', 'the', 'White', 'Houseâ€™s', 'deliberations.The', 'president', 'long', 'campaigned', 'on', 'bringing', 'troops', 'home,', 'but', 'in', '2017,', 'at', 'the', 'request', 'of', 'Mr']), (0.08975918313916043, ['But', 'with', 'plans', 'to', 'quickly', 'reduce', 'the', 'number', 'of', 'American', 'troops', 'in', 'the', 'country,', 'it', 'is', 'unclear', 'if', 'the', 'Afghans', 'can', 'hold', 'their', 'own', 'against', 'an', 'increasingly', 'aggressive', 'Taliban.Currently,', 'American', 'airstrikes', 'are', 'at', 'levels', 'not', 'seen', 'since', 'the', 'height', 'of', 'the', 'war,', 'when', 'tens', 'of', 'thousands', 'of', 'American', 'troops', 'were', 'spread', 'throughout', 'the', 'country']), (0.0793514328956062, ['The', 'United', 'States', 'has', 'also', 'been', 'conducting', 'talks', 'with', 'representatives', 'of', 'the', 'Taliban,', 'in', 'what', 'officials', 'have', 'described', 'as', 'discussions', 'that', 'could', 'lead', 'to', 'formal', 'talks', 'to', 'end', 'the', 'conflict.Senior', 'Afghan', 'officials', 'and', 'Western', 'diplomats', 'in', 'Kabul', 'woke', 'up', 'to', 'the', 'shock', 'of', 'the', 'news', 'on', 'Friday', 'morning,', 'and', 'many', 'of', 'them', 'braced', 'for', 'chaos', 'ahead']), (0.07417173963898509, ['The', 'fear', 'that', 'Mr']), (0.05512995793375358, ['Mattis', 'leave', 'a', 'murky', 'picture', 'for', 'what', 'is', 'next', 'in', 'the', 'United', 'Statesâ€™', 'longest', 'war,', 'and', 'they', 'come', 'as', 'Afghanistan', 'has', 'been', 'troubled', 'by', 'spasms', 'of', 'violence', 'afflicting', 'the', 'capital,', 'Kabul,', 'and', 'other', 'important', 'areas'])]\n",
      "\n",
      "Summarized Text: \n",
      " WASHINGTON - The Trump administration has ordered the military to start withdrawing roughly 7,000 troops from Afghanistan in the coming months, two defense officials said Thursday, an abrupt shift in the 17-year-old war there and a decision that stunned Afghan officials, who said they had not been briefed on the plans.President Trump made the decision to pull the troops - about half the number the United States has in Afghanistan now - at the same time he decided to pull American forces out of Syria, one official said.The announcement came hours after Jim Mattis, the secretary of defense, said that he would resign from his position at the end of February after disagreeing with the president over his approach to policy in the Middle East.The whirlwind of troop withdrawals and the resignation of Mr. Mattis, he begrudgingly pledged an additional 4,000 troops to the Afghan campaign to try to hasten an end to the conflict.Though Pentagon officials have said the influx of forces - coupled with a more aggressive air campaign - was helping the war effort, Afghan forces continued to take nearly unsustainable levels of casualties and lose ground to the Taliban.The renewed American effort in 2017 was the first step in ensuring Afghan forces could become more independent without a set timeline for a withdrawal\n"
     ]
    },
    {
     "name": "stderr",
     "output_type": "stream",
     "text": [
      "[nltk_data] Downloading package stopwords to\n",
      "[nltk_data]     C:\\Users\\shashank.INTRAD\\AppData\\Roaming\\nltk_data...\n",
      "[nltk_data]   Package stopwords is already up-to-date!\n"
     ]
    }
   ],
   "source": [
    "# let's begin\n",
    "generate_summary( \"trump.txt\", 2)"
   ]
  },
  {
   "cell_type": "markdown",
   "metadata": {},
   "source": [
    "Textrank is used as an approach to rank the sentences. TextRank does not rely on any previous training data and can work with any arbitrary piece of text. TextRank is a general purpose graph-based ranking algorithm for NLP. <br> The summarized text generateof the inserted text file is generated."
   ]
  },
  {
   "cell_type": "markdown",
   "metadata": {},
   "source": []
  },
  {
   "cell_type": "markdown",
   "metadata": {},
   "source": []
  }
 ],
 "metadata": {
  "kernelspec": {
   "display_name": "Python 3",
   "language": "python",
   "name": "python3"
  },
  "language_info": {
   "codemirror_mode": {
    "name": "ipython",
    "version": 3
   },
   "file_extension": ".py",
   "mimetype": "text/x-python",
   "name": "python",
   "nbconvert_exporter": "python",
   "pygments_lexer": "ipython3",
   "version": "3.8.5"
  }
 },
 "nbformat": 4,
 "nbformat_minor": 4
}
